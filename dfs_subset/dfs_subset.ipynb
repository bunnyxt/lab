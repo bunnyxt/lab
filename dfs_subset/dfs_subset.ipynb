{
 "cells": [
  {
   "cell_type": "code",
   "execution_count": 20,
   "metadata": {},
   "outputs": [
    {
     "data": {
      "text/plain": [
       "[[],\n",
       " [1],\n",
       " [1, 2],\n",
       " [1, 2, 2],\n",
       " [1, 2, 2, 3],\n",
       " [1, 2, 3],\n",
       " [1, 2],\n",
       " [1, 2, 3],\n",
       " [1, 3],\n",
       " [2],\n",
       " [2, 2],\n",
       " [2, 2, 3],\n",
       " [2, 3],\n",
       " [2],\n",
       " [2, 3],\n",
       " [3]]"
      ]
     },
     "execution_count": 20,
     "metadata": {},
     "output_type": "execute_result"
    }
   ],
   "source": [
    "# get all subset of arr\n",
    "\n",
    "def dfs(arr, start, path, res):\n",
    "    res.append(path)\n",
    "    for i in range(start, len(arr)):\n",
    "        dfs(arr, i + 1, path + [arr[i]], res)\n",
    "\n",
    "def get_subset(arr):\n",
    "    res = []\n",
    "    dfs(arr, 0, [], res)\n",
    "    return res\n",
    "\n",
    "arr = [1, 2, 2, 3]\n",
    "get_subset(arr)"
   ]
  },
  {
   "cell_type": "code",
   "execution_count": 21,
   "metadata": {},
   "outputs": [
    {
     "data": {
      "text/plain": [
       "[[],\n",
       " [1],\n",
       " [1, 2],\n",
       " [1, 2, 2],\n",
       " [1, 2, 2, 3],\n",
       " [1, 2, 3],\n",
       " [1, 3],\n",
       " [2],\n",
       " [2, 2],\n",
       " [2, 2, 3],\n",
       " [2, 3],\n",
       " [3]]"
      ]
     },
     "execution_count": 21,
     "metadata": {},
     "output_type": "execute_result"
    }
   ],
   "source": [
    "# get all subset of arr without duplication\n",
    "\n",
    "def dfs(arr, start, path, res):\n",
    "    res.append(path)\n",
    "    for i in range(start, len(arr)):\n",
    "        if i > start and arr[i] == arr[i - 1]:  # IMPORTANT! avoid duplicate\n",
    "            continue\n",
    "        dfs(arr, i + 1, path + [arr[i]], res)\n",
    "\n",
    "def get_subset_without_duplication(arr):\n",
    "    arr.sort()  # ensure order\n",
    "    res = []\n",
    "    dfs(arr, 0, [], res)\n",
    "    return res\n",
    "\n",
    "arr = [1, 2, 2, 3]\n",
    "get_subset_without_duplication(arr)"
   ]
  },
  {
   "cell_type": "code",
   "execution_count": 24,
   "metadata": {},
   "outputs": [
    {
     "data": {
      "text/plain": [
       "[[1, 1, 6], [1, 2, 5], [1, 7], [2, 6]]"
      ]
     },
     "execution_count": 24,
     "metadata": {},
     "output_type": "execute_result"
    }
   ],
   "source": [
    "# solve of leetcode problem 《40. Combination Sum II》\n",
    "# https://leetcode.com/problems/combination-sum-ii/\n",
    "\n",
    "def dfs(arr, target, start, path, res):\n",
    "    if target == 0:\n",
    "        res.append(path)\n",
    "        return\n",
    "    for i in range(start, len(arr)):\n",
    "        if i > start and arr[i] == arr[i - 1]:  # IMPORTANT! avoid duplicate\n",
    "            continue\n",
    "        if arr[i] > target:\n",
    "            break\n",
    "        dfs(arr, target - arr[i], i + 1, path + [arr[i]], res)\n",
    "\n",
    "def solve(arr, target):\n",
    "    arr.sort()\n",
    "    res = []\n",
    "    dfs(arr, target, 0, [], res)\n",
    "    return res\n",
    "\n",
    "arr = [10,1,2,7,6,1,5]\n",
    "target = 8\n",
    "solve(arr, target)"
   ]
  },
  {
   "cell_type": "code",
   "execution_count": null,
   "metadata": {},
   "outputs": [],
   "source": []
  }
 ],
 "metadata": {
  "kernelspec": {
   "display_name": "Python 3",
   "language": "python",
   "name": "python3"
  },
  "language_info": {
   "codemirror_mode": {
    "name": "ipython",
    "version": 3
   },
   "file_extension": ".py",
   "mimetype": "text/x-python",
   "name": "python",
   "nbconvert_exporter": "python",
   "pygments_lexer": "ipython3",
   "version": "3.7.3"
  }
 },
 "nbformat": 4,
 "nbformat_minor": 2
}
